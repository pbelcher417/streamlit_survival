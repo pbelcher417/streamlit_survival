import streamlit as st
import numpy as np
import pandas as pd
from lifelines import KaplanMeierFitter 
import matplotlib.pyplot as plt


df = pd.read_csv("C:\\Users\\pbelc\\Documents\\Streamlit_Training\\Survival_Application\\WA_Fn-UseC_-Telco-Customer-Churn.csv")


%pip install lifelines


%matplotlib inline


df.head()


df['churn'] = [1 if x == 'Yes' else 0 for x in df['Churn']]


df.head()


T = df['tenure'] # months
E = df['churn']

kmf = KaplanMeierFitter()
kmf.fit(T, event_observed=E)

kmf.plot(at_risk_counts=True)
plt.title('Kaplan-Meier Curve');


kmf.plot(at_risk_counts=True)
plt.title('Kaplan-Meier Curve');



