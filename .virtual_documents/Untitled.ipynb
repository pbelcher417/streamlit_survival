import streamlit as st
import numpy as np
import pandas as pd


df = pd.read_csv("C:\\Users\\pbelc\\Documents\\Streamlit_Training\\Survival_Application\\WA_Fn-UseC_-Telco-Customer-Churn.csv")


%pip install lifelines


df.head()



